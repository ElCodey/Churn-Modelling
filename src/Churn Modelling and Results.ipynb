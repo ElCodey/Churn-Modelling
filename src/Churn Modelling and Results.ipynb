{
 "cells": [
  {
   "cell_type": "markdown",
   "metadata": {},
   "source": [
    "# Churn Customer Modelling\n",
    "\n",
    "Various models will be explored and compared in this project in order to find the best model for this classsification problem. The predicted feature will be if a customer will churn (exit) or not. Logistic Regression, Gradient Boost, Random Forest and MLP will be used for modelling."
   ]
  },
  {
   "cell_type": "code",
   "execution_count": 1,
   "metadata": {},
   "outputs": [],
   "source": [
    "import pandas as pd\n",
    "import numpy as np\n",
    "import matplotlib.pyplot as plt\n",
    "import seaborn as sns\n",
    "\n",
    "from sklearn.model_selection import train_test_split\n",
    "from sklearn.preprocessing import StandardScaler\n",
    "from sklearn.ensemble import GradientBoostingClassifier, RandomForestClassifier\n",
    "from sklearn.linear_model import LogisticRegression \n",
    "from sklearn.neural_network import MLPClassifier\n",
    "from sklearn.metrics import accuracy_score, f1_score, classification_report, confusion_matrix, roc_curve\n",
    "from imblearn.over_sampling import RandomOverSampler\n",
    "\n",
    "from main import over_sampling, train_models, split_and_scale, preprocessing\n",
    "\n",
    "import warnings\n",
    "warnings.filterwarnings(action=\"ignore\")\n",
    "%matplotlib inline"
   ]
  },
  {
   "cell_type": "code",
   "execution_count": 2,
   "metadata": {},
   "outputs": [],
   "source": [
    "df = pd.read_csv(\"Churn_Modelling.csv\")"
   ]
  },
  {
   "cell_type": "code",
   "execution_count": 3,
   "metadata": {},
   "outputs": [
    {
     "data": {
      "text/html": [
       "<div>\n",
       "<style scoped>\n",
       "    .dataframe tbody tr th:only-of-type {\n",
       "        vertical-align: middle;\n",
       "    }\n",
       "\n",
       "    .dataframe tbody tr th {\n",
       "        vertical-align: top;\n",
       "    }\n",
       "\n",
       "    .dataframe thead th {\n",
       "        text-align: right;\n",
       "    }\n",
       "</style>\n",
       "<table border=\"1\" class=\"dataframe\">\n",
       "  <thead>\n",
       "    <tr style=\"text-align: right;\">\n",
       "      <th></th>\n",
       "      <th>RowNumber</th>\n",
       "      <th>CustomerId</th>\n",
       "      <th>Surname</th>\n",
       "      <th>CreditScore</th>\n",
       "      <th>Geography</th>\n",
       "      <th>Gender</th>\n",
       "      <th>Age</th>\n",
       "      <th>Tenure</th>\n",
       "      <th>Balance</th>\n",
       "      <th>NumOfProducts</th>\n",
       "      <th>HasCrCard</th>\n",
       "      <th>IsActiveMember</th>\n",
       "      <th>EstimatedSalary</th>\n",
       "      <th>Exited</th>\n",
       "    </tr>\n",
       "  </thead>\n",
       "  <tbody>\n",
       "    <tr>\n",
       "      <th>0</th>\n",
       "      <td>1</td>\n",
       "      <td>15634602</td>\n",
       "      <td>Hargrave</td>\n",
       "      <td>619</td>\n",
       "      <td>France</td>\n",
       "      <td>Female</td>\n",
       "      <td>42</td>\n",
       "      <td>2</td>\n",
       "      <td>0.00</td>\n",
       "      <td>1</td>\n",
       "      <td>1</td>\n",
       "      <td>1</td>\n",
       "      <td>101348.88</td>\n",
       "      <td>1</td>\n",
       "    </tr>\n",
       "    <tr>\n",
       "      <th>1</th>\n",
       "      <td>2</td>\n",
       "      <td>15647311</td>\n",
       "      <td>Hill</td>\n",
       "      <td>608</td>\n",
       "      <td>Spain</td>\n",
       "      <td>Female</td>\n",
       "      <td>41</td>\n",
       "      <td>1</td>\n",
       "      <td>83807.86</td>\n",
       "      <td>1</td>\n",
       "      <td>0</td>\n",
       "      <td>1</td>\n",
       "      <td>112542.58</td>\n",
       "      <td>0</td>\n",
       "    </tr>\n",
       "    <tr>\n",
       "      <th>2</th>\n",
       "      <td>3</td>\n",
       "      <td>15619304</td>\n",
       "      <td>Onio</td>\n",
       "      <td>502</td>\n",
       "      <td>France</td>\n",
       "      <td>Female</td>\n",
       "      <td>42</td>\n",
       "      <td>8</td>\n",
       "      <td>159660.80</td>\n",
       "      <td>3</td>\n",
       "      <td>1</td>\n",
       "      <td>0</td>\n",
       "      <td>113931.57</td>\n",
       "      <td>1</td>\n",
       "    </tr>\n",
       "    <tr>\n",
       "      <th>3</th>\n",
       "      <td>4</td>\n",
       "      <td>15701354</td>\n",
       "      <td>Boni</td>\n",
       "      <td>699</td>\n",
       "      <td>France</td>\n",
       "      <td>Female</td>\n",
       "      <td>39</td>\n",
       "      <td>1</td>\n",
       "      <td>0.00</td>\n",
       "      <td>2</td>\n",
       "      <td>0</td>\n",
       "      <td>0</td>\n",
       "      <td>93826.63</td>\n",
       "      <td>0</td>\n",
       "    </tr>\n",
       "    <tr>\n",
       "      <th>4</th>\n",
       "      <td>5</td>\n",
       "      <td>15737888</td>\n",
       "      <td>Mitchell</td>\n",
       "      <td>850</td>\n",
       "      <td>Spain</td>\n",
       "      <td>Female</td>\n",
       "      <td>43</td>\n",
       "      <td>2</td>\n",
       "      <td>125510.82</td>\n",
       "      <td>1</td>\n",
       "      <td>1</td>\n",
       "      <td>1</td>\n",
       "      <td>79084.10</td>\n",
       "      <td>0</td>\n",
       "    </tr>\n",
       "  </tbody>\n",
       "</table>\n",
       "</div>"
      ],
      "text/plain": [
       "   RowNumber  CustomerId   Surname  CreditScore Geography  Gender  Age  \\\n",
       "0          1    15634602  Hargrave          619    France  Female   42   \n",
       "1          2    15647311      Hill          608     Spain  Female   41   \n",
       "2          3    15619304      Onio          502    France  Female   42   \n",
       "3          4    15701354      Boni          699    France  Female   39   \n",
       "4          5    15737888  Mitchell          850     Spain  Female   43   \n",
       "\n",
       "   Tenure    Balance  NumOfProducts  HasCrCard  IsActiveMember  \\\n",
       "0       2       0.00              1          1               1   \n",
       "1       1   83807.86              1          0               1   \n",
       "2       8  159660.80              3          1               0   \n",
       "3       1       0.00              2          0               0   \n",
       "4       2  125510.82              1          1               1   \n",
       "\n",
       "   EstimatedSalary  Exited  \n",
       "0        101348.88       1  \n",
       "1        112542.58       0  \n",
       "2        113931.57       1  \n",
       "3         93826.63       0  \n",
       "4         79084.10       0  "
      ]
     },
     "execution_count": 3,
     "metadata": {},
     "output_type": "execute_result"
    }
   ],
   "source": [
    "df.head()"
   ]
  },
  {
   "cell_type": "code",
   "execution_count": 4,
   "metadata": {},
   "outputs": [
    {
     "name": "stdout",
     "output_type": "stream",
     "text": [
      "<class 'pandas.core.frame.DataFrame'>\n",
      "RangeIndex: 10000 entries, 0 to 9999\n",
      "Data columns (total 14 columns):\n",
      " #   Column           Non-Null Count  Dtype  \n",
      "---  ------           --------------  -----  \n",
      " 0   RowNumber        10000 non-null  int64  \n",
      " 1   CustomerId       10000 non-null  int64  \n",
      " 2   Surname          10000 non-null  object \n",
      " 3   CreditScore      10000 non-null  int64  \n",
      " 4   Geography        10000 non-null  object \n",
      " 5   Gender           10000 non-null  object \n",
      " 6   Age              10000 non-null  int64  \n",
      " 7   Tenure           10000 non-null  int64  \n",
      " 8   Balance          10000 non-null  float64\n",
      " 9   NumOfProducts    10000 non-null  int64  \n",
      " 10  HasCrCard        10000 non-null  int64  \n",
      " 11  IsActiveMember   10000 non-null  int64  \n",
      " 12  EstimatedSalary  10000 non-null  float64\n",
      " 13  Exited           10000 non-null  int64  \n",
      "dtypes: float64(2), int64(9), object(3)\n",
      "memory usage: 1.1+ MB\n"
     ]
    }
   ],
   "source": [
    "df.info()"
   ]
  },
  {
   "cell_type": "code",
   "execution_count": 5,
   "metadata": {},
   "outputs": [
    {
     "data": {
      "text/plain": [
       "RowNumber          0\n",
       "CustomerId         0\n",
       "Surname            0\n",
       "CreditScore        0\n",
       "Geography          0\n",
       "Gender             0\n",
       "Age                0\n",
       "Tenure             0\n",
       "Balance            0\n",
       "NumOfProducts      0\n",
       "HasCrCard          0\n",
       "IsActiveMember     0\n",
       "EstimatedSalary    0\n",
       "Exited             0\n",
       "dtype: int64"
      ]
     },
     "execution_count": 5,
     "metadata": {},
     "output_type": "execute_result"
    }
   ],
   "source": [
    "df.isnull().sum()"
   ]
  },
  {
   "cell_type": "markdown",
   "metadata": {},
   "source": [
    "### Preprocessing and Data Split"
   ]
  },
  {
   "cell_type": "code",
   "execution_count": 6,
   "metadata": {},
   "outputs": [
    {
     "data": {
      "text/html": [
       "<div>\n",
       "<style scoped>\n",
       "    .dataframe tbody tr th:only-of-type {\n",
       "        vertical-align: middle;\n",
       "    }\n",
       "\n",
       "    .dataframe tbody tr th {\n",
       "        vertical-align: top;\n",
       "    }\n",
       "\n",
       "    .dataframe thead th {\n",
       "        text-align: right;\n",
       "    }\n",
       "</style>\n",
       "<table border=\"1\" class=\"dataframe\">\n",
       "  <thead>\n",
       "    <tr style=\"text-align: right;\">\n",
       "      <th></th>\n",
       "      <th>CreditScore</th>\n",
       "      <th>Gender</th>\n",
       "      <th>Age</th>\n",
       "      <th>Tenure</th>\n",
       "      <th>Balance</th>\n",
       "      <th>NumOfProducts</th>\n",
       "      <th>HasCrCard</th>\n",
       "      <th>IsActiveMember</th>\n",
       "      <th>EstimatedSalary</th>\n",
       "      <th>Exited</th>\n",
       "      <th>France</th>\n",
       "      <th>Germany</th>\n",
       "      <th>Spain</th>\n",
       "    </tr>\n",
       "  </thead>\n",
       "  <tbody>\n",
       "    <tr>\n",
       "      <th>0</th>\n",
       "      <td>619</td>\n",
       "      <td>0</td>\n",
       "      <td>42</td>\n",
       "      <td>2</td>\n",
       "      <td>0.00</td>\n",
       "      <td>1</td>\n",
       "      <td>1</td>\n",
       "      <td>1</td>\n",
       "      <td>101348.88</td>\n",
       "      <td>1</td>\n",
       "      <td>1</td>\n",
       "      <td>0</td>\n",
       "      <td>0</td>\n",
       "    </tr>\n",
       "    <tr>\n",
       "      <th>1</th>\n",
       "      <td>608</td>\n",
       "      <td>0</td>\n",
       "      <td>41</td>\n",
       "      <td>1</td>\n",
       "      <td>83807.86</td>\n",
       "      <td>1</td>\n",
       "      <td>0</td>\n",
       "      <td>1</td>\n",
       "      <td>112542.58</td>\n",
       "      <td>0</td>\n",
       "      <td>0</td>\n",
       "      <td>0</td>\n",
       "      <td>1</td>\n",
       "    </tr>\n",
       "    <tr>\n",
       "      <th>2</th>\n",
       "      <td>502</td>\n",
       "      <td>0</td>\n",
       "      <td>42</td>\n",
       "      <td>8</td>\n",
       "      <td>159660.80</td>\n",
       "      <td>3</td>\n",
       "      <td>1</td>\n",
       "      <td>0</td>\n",
       "      <td>113931.57</td>\n",
       "      <td>1</td>\n",
       "      <td>1</td>\n",
       "      <td>0</td>\n",
       "      <td>0</td>\n",
       "    </tr>\n",
       "    <tr>\n",
       "      <th>3</th>\n",
       "      <td>699</td>\n",
       "      <td>0</td>\n",
       "      <td>39</td>\n",
       "      <td>1</td>\n",
       "      <td>0.00</td>\n",
       "      <td>2</td>\n",
       "      <td>0</td>\n",
       "      <td>0</td>\n",
       "      <td>93826.63</td>\n",
       "      <td>0</td>\n",
       "      <td>1</td>\n",
       "      <td>0</td>\n",
       "      <td>0</td>\n",
       "    </tr>\n",
       "    <tr>\n",
       "      <th>4</th>\n",
       "      <td>850</td>\n",
       "      <td>0</td>\n",
       "      <td>43</td>\n",
       "      <td>2</td>\n",
       "      <td>125510.82</td>\n",
       "      <td>1</td>\n",
       "      <td>1</td>\n",
       "      <td>1</td>\n",
       "      <td>79084.10</td>\n",
       "      <td>0</td>\n",
       "      <td>0</td>\n",
       "      <td>0</td>\n",
       "      <td>1</td>\n",
       "    </tr>\n",
       "    <tr>\n",
       "      <th>...</th>\n",
       "      <td>...</td>\n",
       "      <td>...</td>\n",
       "      <td>...</td>\n",
       "      <td>...</td>\n",
       "      <td>...</td>\n",
       "      <td>...</td>\n",
       "      <td>...</td>\n",
       "      <td>...</td>\n",
       "      <td>...</td>\n",
       "      <td>...</td>\n",
       "      <td>...</td>\n",
       "      <td>...</td>\n",
       "      <td>...</td>\n",
       "    </tr>\n",
       "    <tr>\n",
       "      <th>9995</th>\n",
       "      <td>771</td>\n",
       "      <td>1</td>\n",
       "      <td>39</td>\n",
       "      <td>5</td>\n",
       "      <td>0.00</td>\n",
       "      <td>2</td>\n",
       "      <td>1</td>\n",
       "      <td>0</td>\n",
       "      <td>96270.64</td>\n",
       "      <td>0</td>\n",
       "      <td>1</td>\n",
       "      <td>0</td>\n",
       "      <td>0</td>\n",
       "    </tr>\n",
       "    <tr>\n",
       "      <th>9996</th>\n",
       "      <td>516</td>\n",
       "      <td>1</td>\n",
       "      <td>35</td>\n",
       "      <td>10</td>\n",
       "      <td>57369.61</td>\n",
       "      <td>1</td>\n",
       "      <td>1</td>\n",
       "      <td>1</td>\n",
       "      <td>101699.77</td>\n",
       "      <td>0</td>\n",
       "      <td>1</td>\n",
       "      <td>0</td>\n",
       "      <td>0</td>\n",
       "    </tr>\n",
       "    <tr>\n",
       "      <th>9997</th>\n",
       "      <td>709</td>\n",
       "      <td>0</td>\n",
       "      <td>36</td>\n",
       "      <td>7</td>\n",
       "      <td>0.00</td>\n",
       "      <td>1</td>\n",
       "      <td>0</td>\n",
       "      <td>1</td>\n",
       "      <td>42085.58</td>\n",
       "      <td>1</td>\n",
       "      <td>1</td>\n",
       "      <td>0</td>\n",
       "      <td>0</td>\n",
       "    </tr>\n",
       "    <tr>\n",
       "      <th>9998</th>\n",
       "      <td>772</td>\n",
       "      <td>1</td>\n",
       "      <td>42</td>\n",
       "      <td>3</td>\n",
       "      <td>75075.31</td>\n",
       "      <td>2</td>\n",
       "      <td>1</td>\n",
       "      <td>0</td>\n",
       "      <td>92888.52</td>\n",
       "      <td>1</td>\n",
       "      <td>0</td>\n",
       "      <td>1</td>\n",
       "      <td>0</td>\n",
       "    </tr>\n",
       "    <tr>\n",
       "      <th>9999</th>\n",
       "      <td>792</td>\n",
       "      <td>0</td>\n",
       "      <td>28</td>\n",
       "      <td>4</td>\n",
       "      <td>130142.79</td>\n",
       "      <td>1</td>\n",
       "      <td>1</td>\n",
       "      <td>0</td>\n",
       "      <td>38190.78</td>\n",
       "      <td>0</td>\n",
       "      <td>1</td>\n",
       "      <td>0</td>\n",
       "      <td>0</td>\n",
       "    </tr>\n",
       "  </tbody>\n",
       "</table>\n",
       "<p>10000 rows × 13 columns</p>\n",
       "</div>"
      ],
      "text/plain": [
       "      CreditScore  Gender  Age  Tenure    Balance  NumOfProducts  HasCrCard  \\\n",
       "0             619       0   42       2       0.00              1          1   \n",
       "1             608       0   41       1   83807.86              1          0   \n",
       "2             502       0   42       8  159660.80              3          1   \n",
       "3             699       0   39       1       0.00              2          0   \n",
       "4             850       0   43       2  125510.82              1          1   \n",
       "...           ...     ...  ...     ...        ...            ...        ...   \n",
       "9995          771       1   39       5       0.00              2          1   \n",
       "9996          516       1   35      10   57369.61              1          1   \n",
       "9997          709       0   36       7       0.00              1          0   \n",
       "9998          772       1   42       3   75075.31              2          1   \n",
       "9999          792       0   28       4  130142.79              1          1   \n",
       "\n",
       "      IsActiveMember  EstimatedSalary  Exited  France  Germany  Spain  \n",
       "0                  1        101348.88       1       1        0      0  \n",
       "1                  1        112542.58       0       0        0      1  \n",
       "2                  0        113931.57       1       1        0      0  \n",
       "3                  0         93826.63       0       1        0      0  \n",
       "4                  1         79084.10       0       0        0      1  \n",
       "...              ...              ...     ...     ...      ...    ...  \n",
       "9995               0         96270.64       0       1        0      0  \n",
       "9996               1        101699.77       0       1        0      0  \n",
       "9997               1         42085.58       1       1        0      0  \n",
       "9998               0         92888.52       1       0        1      0  \n",
       "9999               0         38190.78       0       1        0      0  \n",
       "\n",
       "[10000 rows x 13 columns]"
      ]
     },
     "execution_count": 6,
     "metadata": {},
     "output_type": "execute_result"
    }
   ],
   "source": [
    "df = preprocessing(df)\n",
    "df"
   ]
  },
  {
   "cell_type": "code",
   "execution_count": 7,
   "metadata": {},
   "outputs": [],
   "source": [
    "X_train, X_test, y_train, y_test = split_and_scale(df)"
   ]
  },
  {
   "cell_type": "code",
   "execution_count": 8,
   "metadata": {},
   "outputs": [
    {
     "data": {
      "text/html": [
       "<div>\n",
       "<style scoped>\n",
       "    .dataframe tbody tr th:only-of-type {\n",
       "        vertical-align: middle;\n",
       "    }\n",
       "\n",
       "    .dataframe tbody tr th {\n",
       "        vertical-align: top;\n",
       "    }\n",
       "\n",
       "    .dataframe thead th {\n",
       "        text-align: right;\n",
       "    }\n",
       "</style>\n",
       "<table border=\"1\" class=\"dataframe\">\n",
       "  <thead>\n",
       "    <tr style=\"text-align: right;\">\n",
       "      <th></th>\n",
       "      <th>CreditScore</th>\n",
       "      <th>Gender</th>\n",
       "      <th>Age</th>\n",
       "      <th>Tenure</th>\n",
       "      <th>Balance</th>\n",
       "      <th>NumOfProducts</th>\n",
       "      <th>HasCrCard</th>\n",
       "      <th>IsActiveMember</th>\n",
       "      <th>EstimatedSalary</th>\n",
       "      <th>France</th>\n",
       "      <th>Germany</th>\n",
       "      <th>Spain</th>\n",
       "    </tr>\n",
       "  </thead>\n",
       "  <tbody>\n",
       "    <tr>\n",
       "      <th>2228</th>\n",
       "      <td>-0.060429</td>\n",
       "      <td>-1.086281</td>\n",
       "      <td>-0.185279</td>\n",
       "      <td>1.028680</td>\n",
       "      <td>-1.226424</td>\n",
       "      <td>0.798528</td>\n",
       "      <td>0.641985</td>\n",
       "      <td>-1.019038</td>\n",
       "      <td>-1.376867</td>\n",
       "      <td>1.002002</td>\n",
       "      <td>-0.583509</td>\n",
       "      <td>-0.572731</td>\n",
       "    </tr>\n",
       "    <tr>\n",
       "      <th>5910</th>\n",
       "      <td>-1.743631</td>\n",
       "      <td>-1.086281</td>\n",
       "      <td>0.005323</td>\n",
       "      <td>0.334765</td>\n",
       "      <td>-1.226424</td>\n",
       "      <td>-0.915051</td>\n",
       "      <td>0.641985</td>\n",
       "      <td>0.981317</td>\n",
       "      <td>-1.312339</td>\n",
       "      <td>1.002002</td>\n",
       "      <td>-0.583509</td>\n",
       "      <td>-0.572731</td>\n",
       "    </tr>\n",
       "    <tr>\n",
       "      <th>1950</th>\n",
       "      <td>0.311322</td>\n",
       "      <td>-1.086281</td>\n",
       "      <td>-0.185279</td>\n",
       "      <td>1.722596</td>\n",
       "      <td>0.761149</td>\n",
       "      <td>-0.915051</td>\n",
       "      <td>0.641985</td>\n",
       "      <td>-1.019038</td>\n",
       "      <td>-0.318843</td>\n",
       "      <td>1.002002</td>\n",
       "      <td>-0.583509</td>\n",
       "      <td>-0.572731</td>\n",
       "    </tr>\n",
       "    <tr>\n",
       "      <th>2119</th>\n",
       "      <td>0.414586</td>\n",
       "      <td>0.920572</td>\n",
       "      <td>-0.947689</td>\n",
       "      <td>-0.012193</td>\n",
       "      <td>-1.226424</td>\n",
       "      <td>0.798528</td>\n",
       "      <td>0.641985</td>\n",
       "      <td>-1.019038</td>\n",
       "      <td>0.147481</td>\n",
       "      <td>1.002002</td>\n",
       "      <td>-0.583509</td>\n",
       "      <td>-0.572731</td>\n",
       "    </tr>\n",
       "    <tr>\n",
       "      <th>5947</th>\n",
       "      <td>0.063488</td>\n",
       "      <td>-1.086281</td>\n",
       "      <td>0.577131</td>\n",
       "      <td>0.681722</td>\n",
       "      <td>1.116374</td>\n",
       "      <td>-0.915051</td>\n",
       "      <td>0.641985</td>\n",
       "      <td>0.981317</td>\n",
       "      <td>1.727595</td>\n",
       "      <td>1.002002</td>\n",
       "      <td>-0.583509</td>\n",
       "      <td>-0.572731</td>\n",
       "    </tr>\n",
       "    <tr>\n",
       "      <th>...</th>\n",
       "      <td>...</td>\n",
       "      <td>...</td>\n",
       "      <td>...</td>\n",
       "      <td>...</td>\n",
       "      <td>...</td>\n",
       "      <td>...</td>\n",
       "      <td>...</td>\n",
       "      <td>...</td>\n",
       "      <td>...</td>\n",
       "      <td>...</td>\n",
       "      <td>...</td>\n",
       "      <td>...</td>\n",
       "    </tr>\n",
       "    <tr>\n",
       "      <th>2895</th>\n",
       "      <td>-0.297936</td>\n",
       "      <td>0.920572</td>\n",
       "      <td>0.767733</td>\n",
       "      <td>0.681722</td>\n",
       "      <td>0.497175</td>\n",
       "      <td>-0.915051</td>\n",
       "      <td>0.641985</td>\n",
       "      <td>0.981317</td>\n",
       "      <td>-0.579444</td>\n",
       "      <td>-0.998002</td>\n",
       "      <td>1.713770</td>\n",
       "      <td>-0.572731</td>\n",
       "    </tr>\n",
       "    <tr>\n",
       "      <th>7813</th>\n",
       "      <td>0.352627</td>\n",
       "      <td>-1.086281</td>\n",
       "      <td>2.292554</td>\n",
       "      <td>-0.706109</td>\n",
       "      <td>0.077888</td>\n",
       "      <td>-0.915051</td>\n",
       "      <td>0.641985</td>\n",
       "      <td>-1.019038</td>\n",
       "      <td>-0.529960</td>\n",
       "      <td>-0.998002</td>\n",
       "      <td>1.713770</td>\n",
       "      <td>-0.572731</td>\n",
       "    </tr>\n",
       "    <tr>\n",
       "      <th>905</th>\n",
       "      <td>0.228710</td>\n",
       "      <td>-1.086281</td>\n",
       "      <td>0.577131</td>\n",
       "      <td>1.375638</td>\n",
       "      <td>-1.226424</td>\n",
       "      <td>-0.915051</td>\n",
       "      <td>0.641985</td>\n",
       "      <td>0.981317</td>\n",
       "      <td>-0.140485</td>\n",
       "      <td>1.002002</td>\n",
       "      <td>-0.583509</td>\n",
       "      <td>-0.572731</td>\n",
       "    </tr>\n",
       "    <tr>\n",
       "      <th>5192</th>\n",
       "      <td>0.135773</td>\n",
       "      <td>-1.086281</td>\n",
       "      <td>0.005323</td>\n",
       "      <td>1.028680</td>\n",
       "      <td>-1.226424</td>\n",
       "      <td>0.798528</td>\n",
       "      <td>0.641985</td>\n",
       "      <td>0.981317</td>\n",
       "      <td>0.018567</td>\n",
       "      <td>1.002002</td>\n",
       "      <td>-0.583509</td>\n",
       "      <td>-0.572731</td>\n",
       "    </tr>\n",
       "    <tr>\n",
       "      <th>235</th>\n",
       "      <td>1.168412</td>\n",
       "      <td>0.920572</td>\n",
       "      <td>0.291227</td>\n",
       "      <td>0.334765</td>\n",
       "      <td>0.381546</td>\n",
       "      <td>-0.915051</td>\n",
       "      <td>0.641985</td>\n",
       "      <td>-1.019038</td>\n",
       "      <td>-1.159478</td>\n",
       "      <td>-0.998002</td>\n",
       "      <td>1.713770</td>\n",
       "      <td>-0.572731</td>\n",
       "    </tr>\n",
       "  </tbody>\n",
       "</table>\n",
       "<p>7000 rows × 12 columns</p>\n",
       "</div>"
      ],
      "text/plain": [
       "      CreditScore    Gender       Age    Tenure   Balance  NumOfProducts  \\\n",
       "2228    -0.060429 -1.086281 -0.185279  1.028680 -1.226424       0.798528   \n",
       "5910    -1.743631 -1.086281  0.005323  0.334765 -1.226424      -0.915051   \n",
       "1950     0.311322 -1.086281 -0.185279  1.722596  0.761149      -0.915051   \n",
       "2119     0.414586  0.920572 -0.947689 -0.012193 -1.226424       0.798528   \n",
       "5947     0.063488 -1.086281  0.577131  0.681722  1.116374      -0.915051   \n",
       "...           ...       ...       ...       ...       ...            ...   \n",
       "2895    -0.297936  0.920572  0.767733  0.681722  0.497175      -0.915051   \n",
       "7813     0.352627 -1.086281  2.292554 -0.706109  0.077888      -0.915051   \n",
       "905      0.228710 -1.086281  0.577131  1.375638 -1.226424      -0.915051   \n",
       "5192     0.135773 -1.086281  0.005323  1.028680 -1.226424       0.798528   \n",
       "235      1.168412  0.920572  0.291227  0.334765  0.381546      -0.915051   \n",
       "\n",
       "      HasCrCard  IsActiveMember  EstimatedSalary    France   Germany     Spain  \n",
       "2228   0.641985       -1.019038        -1.376867  1.002002 -0.583509 -0.572731  \n",
       "5910   0.641985        0.981317        -1.312339  1.002002 -0.583509 -0.572731  \n",
       "1950   0.641985       -1.019038        -0.318843  1.002002 -0.583509 -0.572731  \n",
       "2119   0.641985       -1.019038         0.147481  1.002002 -0.583509 -0.572731  \n",
       "5947   0.641985        0.981317         1.727595  1.002002 -0.583509 -0.572731  \n",
       "...         ...             ...              ...       ...       ...       ...  \n",
       "2895   0.641985        0.981317        -0.579444 -0.998002  1.713770 -0.572731  \n",
       "7813   0.641985       -1.019038        -0.529960 -0.998002  1.713770 -0.572731  \n",
       "905    0.641985        0.981317        -0.140485  1.002002 -0.583509 -0.572731  \n",
       "5192   0.641985        0.981317         0.018567  1.002002 -0.583509 -0.572731  \n",
       "235    0.641985       -1.019038        -1.159478 -0.998002  1.713770 -0.572731  \n",
       "\n",
       "[7000 rows x 12 columns]"
      ]
     },
     "execution_count": 8,
     "metadata": {},
     "output_type": "execute_result"
    }
   ],
   "source": [
    "X_train"
   ]
  },
  {
   "cell_type": "markdown",
   "metadata": {},
   "source": [
    "### Model Training and Results"
   ]
  },
  {
   "cell_type": "code",
   "execution_count": 9,
   "metadata": {},
   "outputs": [],
   "source": [
    "log_pred, grad_pred, forest_pred, mlp_pred  = train_models(X_train, X_test, y_train, y_test)"
   ]
  },
  {
   "cell_type": "code",
   "execution_count": 10,
   "metadata": {},
   "outputs": [],
   "source": [
    "log_accuracy, log_f1 = accuracy_score(y_test, log_pred), f1_score(y_test, log_pred)\n",
    "grad_accuracy, grad_f1 = accuracy_score(y_test, grad_pred), f1_score(y_test, grad_pred)\n",
    "forest_accuracy, forest_f1 = accuracy_score(y_test, forest_pred), f1_score(y_test, forest_pred)\n",
    "mlp_accuracy, mlp_f1 = accuracy_score(y_test, mlp_pred), f1_score(y_test, mlp_pred)"
   ]
  },
  {
   "cell_type": "code",
   "execution_count": 11,
   "metadata": {},
   "outputs": [
    {
     "name": "stdout",
     "output_type": "stream",
     "text": [
      "Logistic Model accuracy: 0.812       Logistic Model F1 Score 0.3201\n",
      "Gradient Model accuracy: 0.865       Gradient Model F1 Score 0.5956\n",
      "  Forest Model accuracy: 0.861         Forest Model F1 Score 0.5792\n",
      "     MLP Model accuracy: 0.857            MLP Model F1 Score 0.59\n"
     ]
    }
   ],
   "source": [
    "print(\"Logistic Model accuracy: {}       Logistic Model F1 Score {}\".format(round(log_accuracy,3), round(log_f1,4)))\n",
    "print(\"Gradient Model accuracy: {}       Gradient Model F1 Score {}\".format(round(grad_accuracy,3), round(grad_f1,4)))\n",
    "print(\"  Forest Model accuracy: {}         Forest Model F1 Score {}\".format(round(forest_accuracy,3), round(forest_f1,4)))\n",
    "print(\"     MLP Model accuracy: {}            MLP Model F1 Score {}\".format(round(mlp_accuracy,3), round(mlp_f1,4)))"
   ]
  },
  {
   "cell_type": "markdown",
   "metadata": {},
   "source": [
    "### Oversampling "
   ]
  },
  {
   "cell_type": "code",
   "execution_count": 12,
   "metadata": {},
   "outputs": [],
   "source": [
    "X_train_oversample, y_train_oversample = over_sampling(X_train, y_train)"
   ]
  },
  {
   "cell_type": "code",
   "execution_count": 13,
   "metadata": {},
   "outputs": [],
   "source": [
    "log_pred_os, grad_pred_os, forest_pred_os, mlp_pred_os  = train_models(X_train_oversample, X_test, y_train_oversample, y_test)"
   ]
  },
  {
   "cell_type": "code",
   "execution_count": 14,
   "metadata": {},
   "outputs": [],
   "source": [
    "log_accuracy_os, log_f1_os = accuracy_score(y_test, log_pred_os), f1_score(y_test, log_pred_os)\n",
    "grad_accuracy_os, grad_f1_os = accuracy_score(y_test, grad_pred_os), f1_score(y_test, grad_pred_os)\n",
    "forest_accuracy_os, forest_f1_os = accuracy_score(y_test, forest_pred_os), f1_score(y_test, forest_pred_os)\n",
    "mlp_accuracy_os, mlp_f1_os = accuracy_score(y_test, mlp_pred_os), f1_score(y_test, mlp_pred_os)"
   ]
  },
  {
   "cell_type": "code",
   "execution_count": 15,
   "metadata": {},
   "outputs": [
    {
     "name": "stdout",
     "output_type": "stream",
     "text": [
      "Logistic Model Oversample accuracy: 0.72       Logistic Model Oversample F1 Score 0.5003\n",
      "Gradient Model Oversample accuracy: 0.804       Gradient Model Oversample F1 Score 0.6122\n",
      "  Forest Model Oversample accuracy: 0.854         Forest Model Oversample F1 Score 0.6016\n",
      "     MLP Model Oversample accuracy: 0.798            MLP Model Oversample F1 Score 0.5862\n"
     ]
    }
   ],
   "source": [
    "print(\"Logistic Model Oversample accuracy: {}       Logistic Model Oversample F1 Score {}\".format(round(log_accuracy_os,3), round(log_f1_os,4)))\n",
    "print(\"Gradient Model Oversample accuracy: {}       Gradient Model Oversample F1 Score {}\".format(round(grad_accuracy_os,3), round(grad_f1_os,4)))\n",
    "print(\"  Forest Model Oversample accuracy: {}         Forest Model Oversample F1 Score {}\".format(round(forest_accuracy_os,3), round(forest_f1_os,4)))\n",
    "print(\"     MLP Model Oversample accuracy: {}            MLP Model Oversample F1 Score {}\".format(round(mlp_accuracy_os,3), round(mlp_f1_os,4)))"
   ]
  },
  {
   "cell_type": "markdown",
   "metadata": {},
   "source": [
    "### Comparing the Results\n",
    "\n",
    "Logistic Regression performed pretty poorly normally and with oversampling. Gradient Boosting performed best overall and showed improvements with oversampling. All models except MLP improved their f1 score with oversampling, logistic regression benefiting the most but is still far behind the performance of the other models. Now we will look further into the top 3 models."
   ]
  },
  {
   "cell_type": "code",
   "execution_count": 16,
   "metadata": {},
   "outputs": [
    {
     "data": {
      "image/png": "[encoded data removed]",
      "text/plain": [
       "<Figure size 432x288 with 1 Axes>"
      ]
     },
     "metadata": {
      "needs_background": "light"
     },
     "output_type": "display_data"
    },
    {
     "data": {
      "image/png": "[encoded data removed]",
      "text/plain": [
       "<Figure size 432x288 with 1 Axes>"
      ]
     },
     "metadata": {
      "needs_background": "light"
     },
     "output_type": "display_data"
    }
   ],
   "source": [
    "con_matrix = confusion_matrix(y_test, grad_pred)\n",
    "\n",
    "sns.heatmap(con_matrix, annot=True, fmt='g', vmin=0, cmap='Blues', cbar=False)\n",
    "plt.xlabel(\"Predicted\")\n",
    "plt.ylabel(\"Actual\")\n",
    "plt.title(\"Confusion Matrix for Gradient Boost\")\n",
    "plt.show()\n",
    "\n",
    "con_matrix = confusion_matrix(y_test, grad_pred_os)\n",
    "\n",
    "sns.heatmap(con_matrix, annot=True, fmt='g', vmin=0, cmap='Blues', cbar=False)\n",
    "plt.xlabel(\"Predicted\")\n",
    "plt.ylabel(\"Actual\")\n",
    "plt.title(\"Confusion Matrix for Gradient Boost with Oversampling\")\n",
    "plt.show()"
   ]
  },
  {
   "cell_type": "code",
   "execution_count": 17,
   "metadata": {},
   "outputs": [
    {
     "data": {
      "image/png": "[encoded data removed]",
      "text/plain": [
       "<Figure size 432x288 with 1 Axes>"
      ]
     },
     "metadata": {
      "needs_background": "light"
     },
     "output_type": "display_data"
    },
    {
     "data": {
      "image/png": "[encoded data removed]",
      "text/plain": [
       "<Figure size 432x288 with 1 Axes>"
      ]
     },
     "metadata": {
      "needs_background": "light"
     },
     "output_type": "display_data"
    }
   ],
   "source": [
    "con_matrix = confusion_matrix(y_test, mlp_pred)\n",
    "\n",
    "sns.heatmap(con_matrix, annot=True, fmt='g', vmin=0, cmap='Blues', cbar=False)\n",
    "plt.xlabel(\"Predicted\")\n",
    "plt.ylabel(\"Actual\")\n",
    "plt.title(\"Confusion Matrix for MLP\")\n",
    "plt.show()\n",
    "\n",
    "con_matrix = confusion_matrix(y_test, mlp_pred_os)\n",
    "\n",
    "sns.heatmap(con_matrix, annot=True, fmt='g', vmin=0, cmap='Blues', cbar=False)\n",
    "plt.xlabel(\"Predicted\")\n",
    "plt.ylabel(\"Actual\")\n",
    "plt.title(\"Confusion Matrix for MLP with Oversampling\")\n",
    "plt.show()"
   ]
  },
  {
   "cell_type": "code",
   "execution_count": 18,
   "metadata": {},
   "outputs": [
    {
     "data": {
      "image/png": "[encoded data removed]",
      "text/plain": [
       "<Figure size 432x288 with 1 Axes>"
      ]
     },
     "metadata": {
      "needs_background": "light"
     },
     "output_type": "display_data"
    },
    {
     "data": {
      "image/png": "[encoded data removed]",
      "text/plain": [
       "<Figure size 432x288 with 1 Axes>"
      ]
     },
     "metadata": {
      "needs_background": "light"
     },
     "output_type": "display_data"
    }
   ],
   "source": [
    "con_matrix = confusion_matrix(y_test, forest_pred)\n",
    "\n",
    "sns.heatmap(con_matrix, annot=True, fmt='g', vmin=0, cmap='Blues', cbar=False)\n",
    "plt.xlabel(\"Predicted\")\n",
    "plt.ylabel(\"Actual\")\n",
    "plt.title(\"Confusion Matrix for Random Forest\")\n",
    "plt.show()\n",
    "\n",
    "con_matrix = confusion_matrix(y_test, forest_pred_os)\n",
    "\n",
    "sns.heatmap(con_matrix, annot=True, fmt='g', vmin=0, cmap='Blues', cbar=False)\n",
    "plt.xlabel(\"Predicted\")\n",
    "plt.ylabel(\"Actual\")\n",
    "plt.title(\"Confusion Matrix for Random Forest with Oversampling\")\n",
    "plt.show()"
   ]
  },
  {
   "cell_type": "code",
   "execution_count": 19,
   "metadata": {},
   "outputs": [
    {
     "data": {
      "image/png": "[encoded data removed]",
      "text/plain": [
       "<Figure size 432x288 with 1 Axes>"
      ]
     },
     "metadata": {
      "needs_background": "light"
     },
     "output_type": "display_data"
    }
   ],
   "source": [
    "fpr, tpr, thresholds = roc_curve(y_test, grad_pred)\n",
    "plt.plot(fpr, tpr, linewidth=2)\n",
    "plt.title(\"ROC Curve for Gradient Boost Model\");\n",
    "fpr, tpr, thresholds = roc_curve(y_test, grad_pred_os)\n",
    "plt.plot(fpr, tpr, linewidth=2)\n",
    "plt.title(\"ROC Curve for Gradient Boost Model\");"
   ]
  },
  {
   "cell_type": "code",
   "execution_count": 20,
   "metadata": {},
   "outputs": [
    {
     "data": {
      "image/png": "[encoded data removed]",
      "text/plain": [
       "<Figure size 432x288 with 1 Axes>"
      ]
     },
     "metadata": {
      "needs_background": "light"
     },
     "output_type": "display_data"
    }
   ],
   "source": [
    "fpr, tpr, thresholds = roc_curve(y_test, mlp_pred)\n",
    "plt.plot(fpr, tpr, linewidth=2)\n",
    "plt.title(\"ROC Curve for MLP Model\");\n",
    "\n",
    "fpr, tpr, thresholds = roc_curve(y_test, mlp_pred_os)\n",
    "plt.plot(fpr, tpr, linewidth=2)\n",
    "plt.title(\"ROC Curve for MLP Model\");"
   ]
  },
  {
   "cell_type": "code",
   "execution_count": 21,
   "metadata": {},
   "outputs": [
    {
     "data": {
      "image/png": "[encoded data removed]",
      "text/plain": [
       "<Figure size 432x288 with 1 Axes>"
      ]
     },
     "metadata": {
      "needs_background": "light"
     },
     "output_type": "display_data"
    }
   ],
   "source": [
    "fpr, tpr, thresholds = roc_curve(y_test, forest_pred)\n",
    "plt.plot(fpr, tpr, linewidth=2)\n",
    "plt.title(\"ROC Curve for Random Forest Model\");\n",
    "\n",
    "fpr, tpr, thresholds = roc_curve(y_test, forest_pred_os)\n",
    "plt.plot(fpr, tpr, linewidth=2)\n",
    "plt.title(\"ROC Curve for Random Forest Model\");"
   ]
  },
  {
   "cell_type": "markdown",
   "metadata": {},
   "source": [
    "As we can see from the maxtric and roc curves above. All 3 models correctly identified more churn customers with oversampling. However, there was a big increase in wrongly predicted churn customers too. "
   ]
  },
  {
   "cell_type": "code",
   "execution_count": 22,
   "metadata": {},
   "outputs": [
    {
     "name": "stdout",
     "output_type": "stream",
     "text": [
      "Classification Report for Gradient Boost Oversampling:\n",
      "----------------------------------------------------------------------------\n",
      "              precision    recall  f1-score   support\n",
      "\n",
      "    No Churn       0.92      0.82      0.87      2373\n",
      "       Churn       0.52      0.74      0.61       627\n",
      "\n",
      "    accuracy                           0.80      3000\n",
      "   macro avg       0.72      0.78      0.74      3000\n",
      "weighted avg       0.84      0.80      0.81      3000\n",
      "\n"
     ]
    }
   ],
   "source": [
    "print(\"Classification Report for Gradient Boost Oversampling:\")\n",
    "print(\"----------------------------------------------------------------------------\")\n",
    "print(classification_report(y_test, grad_pred_os, target_names=[\"No Churn\", \"Churn\"]))"
   ]
  },
  {
   "cell_type": "code",
   "execution_count": 23,
   "metadata": {},
   "outputs": [
    {
     "name": "stdout",
     "output_type": "stream",
     "text": [
      "Classification Report for Gradient Boost:\n",
      "----------------------------------------------------------------------------\n",
      "              precision    recall  f1-score   support\n",
      "\n",
      "    No Churn       0.87      0.97      0.92      2373\n",
      "       Churn       0.79      0.48      0.60       627\n",
      "\n",
      "    accuracy                           0.86      3000\n",
      "   macro avg       0.83      0.72      0.76      3000\n",
      "weighted avg       0.86      0.86      0.85      3000\n",
      "\n"
     ]
    }
   ],
   "source": [
    "print(\"Classification Report for Gradient Boost:\")\n",
    "print(\"----------------------------------------------------------------------------\")\n",
    "print(classification_report(y_test, grad_pred, target_names=[\"No Churn\", \"Churn\"]))"
   ]
  },
  {
   "cell_type": "markdown",
   "metadata": {},
   "source": [
    "From the two reports above for gradient boost model. We can see the precision/recall trade off. For this case, we would prefer a higher recall because then we are able to correctly identify the customers who will churn and have a chance to retain them. This comes at a higher marketing cost if we have to unnecessarily target customers who are not likely to churn."
   ]
  }
 ],
 "metadata": {
  "kernelspec": {
   "display_name": "Python 3",
   "language": "python",
   "name": "python3"
  },
  "language_info": {
   "codemirror_mode": {
    "name": "ipython",
    "version": 3
   },
   "file_extension": ".py",
   "mimetype": "text/x-python",
   "name": "python",
   "nbconvert_exporter": "python",
   "pygments_lexer": "ipython3",
   "version": "3.8.5"
  }
 },
 "nbformat": 4,
 "nbformat_minor": 4
}
